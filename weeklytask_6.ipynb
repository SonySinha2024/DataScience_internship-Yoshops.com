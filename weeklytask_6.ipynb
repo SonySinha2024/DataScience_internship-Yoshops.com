{
 "cells": [
  {
   "cell_type": "code",
   "execution_count": 1,
   "id": "44411ee2",
   "metadata": {},
   "outputs": [],
   "source": [
    "#Automation : Products Review reply Automation Validation Write a python programm to reply review in product page where\n",
    "#customers write feedback on Products .\n",
    "\n",
    "#Input value link = Yoshops.com Output = create excel file with web url, Products name, Products Details,\n",
    "#products review, customer name and customer email id columns."
   ]
  },
  {
   "cell_type": "code",
   "execution_count": 2,
   "id": "b9aa12ce",
   "metadata": {},
   "outputs": [],
   "source": [
    "# To interact with chrome webdriver is used\n",
    "from selenium import webdriver"
   ]
  },
  {
   "cell_type": "code",
   "execution_count": 3,
   "id": "fa2d04e9",
   "metadata": {},
   "outputs": [
    {
     "name": "stderr",
     "output_type": "stream",
     "text": [
      "C:\\Users\\nawin\\AppData\\Local\\Temp\\ipykernel_17732\\3876497295.py:1: DeprecationWarning: executable_path has been deprecated, please pass in a Service object\n",
      "  driver = webdriver.Chrome(executable_path=\"C:/Users/nawin/chromedriver.exe\")\n"
     ]
    }
   ],
   "source": [
    "driver = webdriver.Chrome(executable_path=\"C:/Users/nawin/chromedriver.exe\")"
   ]
  },
  {
   "cell_type": "code",
   "execution_count": 4,
   "id": "6b06c724",
   "metadata": {},
   "outputs": [],
   "source": [
    "driver.get(\"https://yoshops.com/\")\n",
    "from selenium.webdriver.common.by import By\n",
    "productnames = driver.find_elements(By.XPATH,\"//span[contains(@class, 'product-title')]\")"
   ]
  },
  {
   "cell_type": "code",
   "execution_count": 5,
   "id": "62473d43",
   "metadata": {},
   "outputs": [],
   "source": [
    "itemname = []\n",
    "oldprice = []\n",
    "discountedprice = []"
   ]
  },
  {
   "cell_type": "code",
   "execution_count": 7,
   "id": "4a4b3566",
   "metadata": {},
   "outputs": [
    {
     "name": "stdout",
     "output_type": "stream",
     "text": [
      "4,475.00\n",
      "3,495.00\n",
      "456.00\n",
      "999.00\n",
      "999.00\n",
      "1,487.00\n",
      "1,999.00\n",
      "4,000.00\n",
      "4,678.00\n",
      "2,232.00\n",
      "12,289.00\n",
      "6,500.00\n"
     ]
    }
   ],
   "source": [
    "price = driver.find_elements(By.XPATH,\"//div[contains(@class, 'product-price')]\")\n",
    "for tx in price:\n",
    "    print(tx.text.split('₹')[1])\n",
    "    oldprice.append(tx.text.split('₹')[1])"
   ]
  },
  {
   "cell_type": "code",
   "execution_count": 8,
   "id": "9766114f",
   "metadata": {},
   "outputs": [
    {
     "name": "stdout",
     "output_type": "stream",
     "text": [
      "Hammer Airflow True Wireless Earbuds (Blue), 5 Hours Playtime, with Magnetic Charging case (300mah),Built-in Voice Assistant & Bluetooth 5.0\n",
      "Hammer Sting Lite In-Ear Wireless Bluetooth Neckband Earphones Black\n",
      "Candytech H111i Supersonic Bass earphone Wired Headset With Mic\n",
      "Boat Rockerz 530 Foldable Bluetooth Headphone with Mic (Carbon Black)\n",
      "WS887 Mini Wireless Bluetooth Speaker\n",
      "Mini VR BOX Virtual Reality Headsets with ultra 3D glasses Compatible with Android and IOS Devices (Blue, Black)\n",
      "Reliance Jio Phone\n",
      "Vmax HX 750 Quadcopter Drone (No Camera)\n",
      "Avengers Captain America Drone Four Axis Aircraft with 2.4 GHz Without Camera\n",
      "Olifair Pearls Saffron and Radiant Effect Night Cream 50 ml(Riya Fruity Soap Free)\n",
      "Sony PlayStation PS2 Gaming Console 150 GB Hard Disk With 50 Games Preloaded(Black)\n",
      "BBA Online Class Live Tuition Training Program with Internship\n"
     ]
    }
   ],
   "source": [
    "for product in productnames:\n",
    "    print(product.text)\n",
    "    itemname.append(product.text)"
   ]
  },
  {
   "cell_type": "code",
   "execution_count": 10,
   "id": "441c5537",
   "metadata": {},
   "outputs": [
    {
     "name": "stdout",
     "output_type": "stream",
     "text": [
      "799.00\n",
      "699.00\n",
      "299.00\n",
      "799.00\n",
      "399.00\n",
      "349.00\n",
      "1,499.00\n",
      "1,499.00\n",
      "2,299.00\n",
      "999.00\n",
      "8,999.00\n",
      "999.00\n"
     ]
    }
   ],
   "source": [
    "price = driver.find_elements(By.XPATH,\"//div[contains(@class, 'product-price')]\")\n",
    "for tx in price:\n",
    "    print(tx.text.split('₹')[2])\n",
    "    discountedprice.append(tx.text.split('₹')[2])"
   ]
  },
  {
   "cell_type": "code",
   "execution_count": 11,
   "id": "d00f30c3",
   "metadata": {},
   "outputs": [
    {
     "name": "stdout",
     "output_type": "stream",
     "text": [
      "                                         Product Name Old Price in ₹  \\\n",
      "0   Hammer Airflow True Wireless Earbuds (Blue), 5...       4,475.00   \n",
      "1   Hammer Sting Lite In-Ear Wireless Bluetooth Ne...       3,495.00   \n",
      "2   Candytech H111i Supersonic Bass earphone Wired...         456.00   \n",
      "3   Boat Rockerz 530 Foldable Bluetooth Headphone ...         999.00   \n",
      "4               WS887 Mini Wireless Bluetooth Speaker         999.00   \n",
      "5   Mini VR BOX Virtual Reality Headsets with ultr...       1,487.00   \n",
      "6                                  Reliance Jio Phone       1,999.00   \n",
      "7            Vmax HX 750 Quadcopter Drone (No Camera)       4,000.00   \n",
      "8   Avengers Captain America Drone Four Axis Aircr...       4,678.00   \n",
      "9   Olifair Pearls Saffron and Radiant Effect Nigh...       2,232.00   \n",
      "10  Sony PlayStation PS2 Gaming Console 150 GB Har...      12,289.00   \n",
      "11  BBA Online Class Live Tuition Training Program...       6,500.00   \n",
      "\n",
      "   Discounted Price in ₹  \n",
      "0                 799.00  \n",
      "1                 699.00  \n",
      "2                 299.00  \n",
      "3                 799.00  \n",
      "4                 399.00  \n",
      "5                 349.00  \n",
      "6               1,499.00  \n",
      "7               1,499.00  \n",
      "8               2,299.00  \n",
      "9                 999.00  \n",
      "10              8,999.00  \n",
      "11                999.00  \n"
     ]
    }
   ],
   "source": [
    "import pandas as pd\n",
    "df1 = pd.DataFrame(list(zip(itemname,oldprice,discountedprice)),\n",
    "               columns =['Product Name', 'Old Price in ₹', 'Discounted Price in ₹'])\n",
    "print(df1)"
   ]
  },
  {
   "cell_type": "code",
   "execution_count": 12,
   "id": "b1a714fb",
   "metadata": {},
   "outputs": [],
   "source": [
    "driver.get(\"https://yoshops.com\"+\"/products/hammer-sting-lite-in-ear-wireless-bluetooth-neckband-earphones-black\")"
   ]
  },
  {
   "cell_type": "code",
   "execution_count": 14,
   "id": "458defb0",
   "metadata": {},
   "outputs": [
    {
     "data": {
      "text/plain": [
       "'Cash On Delivery Available-Free Shipping Available-Free One Gift Available(Wired Headset With Mic)-Use Coupon Code for 5% Discount:  Neha@gift  -Product Details:-Model Name: Sting Lite-Color: Black-Headphone Type: Neckband-Connectivity: Bluetooth-Headphone Design: Behind the Neck-Accessories :USB Charging Cable-Sweat Proof: Yes'"
      ]
     },
     "execution_count": 14,
     "metadata": {},
     "output_type": "execute_result"
    }
   ],
   "source": [
    "productdetails = driver.find_elements(By.XPATH,\"//font[contains(@color, '#000000')]\")\n",
    "itemdetails=[]\n",
    "for details in productdetails:\n",
    "    itemdetails.append(details.text) \n",
    "while '' in itemdetails:\n",
    "    itemdetails.remove('')\n",
    "itemdetails1='-'.join(itemdetails)\n",
    "itemdetails1"
   ]
  },
  {
   "cell_type": "code",
   "execution_count": 16,
   "id": "9a3e8950",
   "metadata": {},
   "outputs": [],
   "source": [
    "# import Action chains \n",
    "from selenium.webdriver.common.action_chains import ActionChains\n",
    "button = driver.find_element(By.XPATH, \"//div[@class='yotpo-regular-box yotpo-bottomline yotpo-bottomline-2-boxes yotpo-bottomline-empty-state']/div[3]/span[2][contains(text(),'write a review')]\")\n",
    "ActionChains(driver).move_to_element(button).click().perform()"
   ]
  },
  {
   "cell_type": "code",
   "execution_count": 17,
   "id": "93dbf718",
   "metadata": {},
   "outputs": [],
   "source": [
    "starbutton1 = driver.find_element(By.XPATH, \"//*[@data-score='5']\")\n",
    "ActionChains(driver).move_to_element(starbutton1).click().perform()"
   ]
  },
  {
   "cell_type": "code",
   "execution_count": 18,
   "id": "dbb3bf51",
   "metadata": {},
   "outputs": [],
   "source": [
    "title = driver.find_element(\"name\",'review_title')\n",
    "title.send_keys('You are welcome, plz shop again')"
   ]
  },
  {
   "cell_type": "code",
   "execution_count": 20,
   "id": "b76b639d",
   "metadata": {},
   "outputs": [],
   "source": [
    "writereview = driver.find_element(\"name\",'review_content')\n",
    "writereview.send_keys('Thank You for Your Review, plz shop again')"
   ]
  },
  {
   "cell_type": "code",
   "execution_count": 21,
   "id": "6e8f8f7a",
   "metadata": {},
   "outputs": [],
   "source": [
    "writename = driver.find_element(\"name\",'display_name')\n",
    "writename.send_keys('Sony Sinha')"
   ]
  },
  {
   "cell_type": "code",
   "execution_count": 22,
   "id": "7136a306",
   "metadata": {},
   "outputs": [],
   "source": [
    "writemailid = driver.find_element(\"name\",'email')\n",
    "writemailid.send_keys('sonysinha@gmail.com')"
   ]
  },
  {
   "cell_type": "code",
   "execution_count": 23,
   "id": "8e26c0ff",
   "metadata": {},
   "outputs": [],
   "source": [
    "#ActionChains(browser).move_to_element(post_button).click().perform()\n",
    "post_button = driver.find_element(By.XPATH, \"//*[@class='form-element submit-button']\")\n",
    "ActionChains(driver).move_to_element(post_button).click().perform()"
   ]
  },
  {
   "cell_type": "code",
   "execution_count": 24,
   "id": "3fe05c79",
   "metadata": {},
   "outputs": [
    {
     "data": {
      "text/plain": [
       "'Sony S.-Kritika-Tak-Kritika'"
      ]
     },
     "execution_count": 24,
     "metadata": {},
     "output_type": "execute_result"
    }
   ],
   "source": [
    "reviewer = driver.find_elements(By.XPATH,\"//span[contains(@class, 'y-label yotpo-user-name yotpo-font-bold pull-left')]\")\n",
    "reviewername = []\n",
    "for details in reviewer:\n",
    "    reviewername.append(details.text) \n",
    "while '' in reviewername:\n",
    "    reviewername.remove('')\n",
    "reviewername1='-'.join(reviewername)\n",
    "reviewername1"
   ]
  },
  {
   "cell_type": "code",
   "execution_count": 25,
   "id": "0da054ec",
   "metadata": {},
   "outputs": [
    {
     "data": {
      "text/plain": [
       "'-Thank You for Your Review, plz shop againThank You for Your Review, plz shop again-Nice product-Awesome product---'"
      ]
     },
     "execution_count": 25,
     "metadata": {},
     "output_type": "execute_result"
    }
   ],
   "source": [
    "productreviews = driver.find_elements(By.XPATH,\"//div[contains(@class, 'content-review')]\")\n",
    "itemreviews=[]\n",
    "for reviews in productreviews:\n",
    "    itemreviews.append(reviews.text) \n",
    "itemreviews1='-'.join(itemreviews)\n",
    "itemreviews1"
   ]
  },
  {
   "cell_type": "code",
   "execution_count": 26,
   "id": "e3e6ea52",
   "metadata": {},
   "outputs": [],
   "source": [
    "driver.get(\"https://yoshops.com/products/hammer-airflow-true-wireless-earbuds-blue-5-hours-playtime-with-magnetic-charging-case-300mah-built-in-voice-assistant-bluetooth-5-0\")"
   ]
  },
  {
   "cell_type": "code",
   "execution_count": 27,
   "id": "499741a3",
   "metadata": {},
   "outputs": [
    {
     "data": {
      "text/plain": [
       "'Cash On Delivery Available-Free Shipping Available-Free One Gift Available(Wired Headset With Mic)-Use Coupon Code for 5% Discount:  Neha@gift  -Product Details:-Model Name: Airflow TWS with Mic-Brand: Hammer-Manufacturer HAMMER, Mail- info@hammeronline.in, Mob- 9991108081-Model AIRFLOW-Model Name Airflow-Product Dimensions 0.4 x 0.4 x 0.7 cm; 40 Grams-Batteries 1 Lithium Polymer batteries required. (included)'"
      ]
     },
     "execution_count": 27,
     "metadata": {},
     "output_type": "execute_result"
    }
   ],
   "source": [
    "productdetails = driver.find_elements(By.XPATH,\"//font[contains(@color, '#000000')]\")\n",
    "itemdetails=[]\n",
    "for details in productdetails:\n",
    "    itemdetails.append(details.text) \n",
    "while '' in itemdetails:\n",
    "    itemdetails.remove('')\n",
    "itemdetails2='-'.join(itemdetails)\n",
    "itemdetails2"
   ]
  },
  {
   "cell_type": "code",
   "execution_count": 28,
   "id": "c04e307e",
   "metadata": {},
   "outputs": [
    {
     "data": {
      "text/plain": [
       "'Sony-Sahil-Sahil-Remya-kriti'"
      ]
     },
     "execution_count": 28,
     "metadata": {},
     "output_type": "execute_result"
    }
   ],
   "source": [
    "reviewer = driver.find_elements(By.XPATH,\"//span[contains(@class, 'y-label yotpo-user-name yotpo-font-bold pull-left')]\")\n",
    "reviewername = []\n",
    "for details in reviewer:\n",
    "    reviewername.append(details.text) \n",
    "while '' in reviewername:\n",
    "    reviewername.remove('')\n",
    "reviewername2='-'.join(reviewername)\n",
    "reviewername2"
   ]
  },
  {
   "cell_type": "code",
   "execution_count": 29,
   "id": "1b55e32f",
   "metadata": {},
   "outputs": [
    {
     "data": {
      "text/plain": [
       "'-Thank You for Your Review-Awesome Sound-Awesome Sound-Thank You for Your Review-Awesome------'"
      ]
     },
     "execution_count": 29,
     "metadata": {},
     "output_type": "execute_result"
    }
   ],
   "source": [
    "productreviews = driver.find_elements(By.XPATH,\"//div[contains(@class, 'content-review')]\")\n",
    "itemreviews=[]\n",
    "for reviews in productreviews:\n",
    "    itemreviews.append(reviews.text) \n",
    "itemreviews2='-'.join(itemreviews)\n",
    "itemreviews2"
   ]
  },
  {
   "cell_type": "code",
   "execution_count": 30,
   "id": "52a3bd43",
   "metadata": {},
   "outputs": [],
   "source": [
    "#browser.find_element(By.LINK_TEXT,item_name[2]).click()\n",
    "driver.get(\"https://yoshops.com\"+\"/products/candytech-h111i-supersonic-bass-earphone-wired-headset-with-mic\")"
   ]
  },
  {
   "cell_type": "code",
   "execution_count": 31,
   "id": "72b91ba5",
   "metadata": {},
   "outputs": [
    {
     "data": {
      "text/plain": [
       "'Product Detail:-Brand Candytech-Manufacturer n b communication pvt ltd-Package Dimensions 20 x 10 x 8 cm; 500 Grams-Item part number H111i-Special Features In-Ear-Microphone Form Factor In-Line-Headphones Form Factor In Ear-Batteries Required No-Connector Type Wired-3.5mm single pin-Item Weight 200 g--Product Description:-Candytech H111i wired headset has been engineered with Bass-driven Stereo sound technology that provides impressive and deep bass. The technologically advanced design of the earphone reduces the peripheral noise to make sure you stay entertained with none interference of external noises. Ergonomically designed drivers: Aerospace grade AL alloy drivers give the simplest acoustics, 3D HD sound and a punchy bass'"
      ]
     },
     "execution_count": 31,
     "metadata": {},
     "output_type": "execute_result"
    }
   ],
   "source": [
    "productdetails = driver.find_elements(By.XPATH,\"//div[contains(@class, 'peekaboo-inner clearfix')]\")\n",
    "itemdetails=[]\n",
    "for details in productdetails:\n",
    "    itemdetails.append(details.text) \n",
    "while '' in itemdetails:\n",
    "    itemdetails.remove('')\n",
    "itemdetails3='-'.join(itemdetails)\n",
    "itemdetails3 = itemdetails3.replace('\\n','-')\n",
    "itemdetails3"
   ]
  },
  {
   "cell_type": "code",
   "execution_count": 32,
   "id": "e2e9e07c",
   "metadata": {},
   "outputs": [
    {
     "data": {
      "text/plain": [
       "''"
      ]
     },
     "execution_count": 32,
     "metadata": {},
     "output_type": "execute_result"
    }
   ],
   "source": [
    "reviewer = driver.find_elements(By.XPATH,\"//span[contains(@class, 'y-label yotpo-user-name yotpo-font-bold pull-left')]\")\n",
    "reviewername = []\n",
    "for details in reviewer:\n",
    "    reviewername.append(details.text) \n",
    "while '' in reviewername:\n",
    "    reviewername.remove('')\n",
    "reviewername3='-'.join(reviewername)\n",
    "reviewername3"
   ]
  },
  {
   "cell_type": "code",
   "execution_count": 33,
   "id": "ec21a213",
   "metadata": {},
   "outputs": [
    {
     "data": {
      "text/plain": [
       "'-'"
      ]
     },
     "execution_count": 33,
     "metadata": {},
     "output_type": "execute_result"
    }
   ],
   "source": [
    "productreviews = driver.find_elements(By.XPATH,\"//div[contains(@class, 'content-review')]\")\n",
    "itemreviews=[]\n",
    "for reviews in productreviews:\n",
    "    itemreviews.append(reviews.text) \n",
    "itemreviews3='-'.join(itemreviews)\n",
    "itemreviews3"
   ]
  },
  {
   "cell_type": "code",
   "execution_count": 34,
   "id": "47a29f5a",
   "metadata": {},
   "outputs": [],
   "source": [
    "driver.get(\"https://yoshops.com\"+\"/products/boat-rockerz-530-foldable-bluetooth-headphone-with-mic-carbon-black\")"
   ]
  },
  {
   "cell_type": "code",
   "execution_count": 35,
   "id": "f3fa3268",
   "metadata": {},
   "outputs": [
    {
     "data": {
      "text/plain": [
       "'Cash on Delivery available- ₹100 Flat Discount Code-  Yo100-Buy boAt Rockerz 530 Foldable Bluetooth Headset at Price Rs.799 from Yoshops.com-and Shopping to win prizes every day.-Product Description:-• Extra 3.5mm port: yes (Cable Supplied)-• Battery Charging: Micro USB Charging-• Rated power：10mW-• Net Weight: 110g-• Warranty: 1 year Manufacturer Warranty-• Delivery Includes: Wireless Headphone, Manual , Audio Cable, Charging Cable-• Super Bass-• Sound: HD Clarity with Super Bass-• Drivers: 40 mm-• Type: On Ear-• Connectivity: Bluetooth / Wireless-• Compatibility : All Mobiles , Laptop And Tablets-• Microphone: Noise Cancelling-• Operation range: 10 meters-• Playing time: Up to 8 hours-• Charge time: Nominal charging time: 2 hours--Designed to entertain, built to last, the Boat Rockerz 530 Bluetooth On the Ear Headphones with Mic are sure to be your best buddy in solitude. Its high-quality, lightweight construction allows you to carry it everywhere. You can also easily manage your calls with its built-in microphone. The powerful 40 mm dynamic drivers with the speaker resistance of 32 Ohm enable the headphones to deliver a punchy, rhythmic response to the most demanding tracks. Furthermore, On the Ear design provides maximum comfort when in use for long hours.'"
      ]
     },
     "execution_count": 35,
     "metadata": {},
     "output_type": "execute_result"
    }
   ],
   "source": [
    "productdetails = driver.find_elements(By.XPATH,\"//div[contains(@class, 'peekaboo-inner clearfix')]\")\n",
    "itemdetails=[]\n",
    "for details in productdetails:\n",
    "    itemdetails.append(details.text) \n",
    "while '' in itemdetails:\n",
    "    itemdetails.remove('')\n",
    "itemdetails4='-'.join(itemdetails)\n",
    "itemdetails4 = itemdetails4.replace('\\n','-')\n",
    "itemdetails4"
   ]
  },
  {
   "cell_type": "code",
   "execution_count": 36,
   "id": "09e8a308",
   "metadata": {},
   "outputs": [
    {
     "data": {
      "text/plain": [
       "'MR.L-Mr S.-SudhagarSvS-SudhagarSvS-SudhagarSvS-SudhagarSvS-SudhagarSvS-SudhagarSvS-SudhagarSvS-SudhagarSvS-Yoshops (.-Yoshops (.-Yoshops (.-Praveen K.-Yoshops (.-Yoshops (.-Pranava K.-Rahul R.-Prashant P.-Yoshops'"
      ]
     },
     "execution_count": 36,
     "metadata": {},
     "output_type": "execute_result"
    }
   ],
   "source": [
    "reviewer = driver.find_elements(By.XPATH,\"//span[contains(@class, 'y-label yotpo-user-name yotpo-font-bold pull-left')]\")\n",
    "reviewername = []\n",
    "for details in reviewer:\n",
    "    reviewername.append(details.text) \n",
    "while '' in reviewername:\n",
    "    reviewername.remove('')\n",
    "reviewername4='-'.join(reviewername)\n",
    "reviewername4"
   ]
  },
  {
   "cell_type": "code",
   "execution_count": 37,
   "id": "f1adac0c",
   "metadata": {},
   "outputs": [
    {
     "data": {
      "text/plain": [
       "\"-Thank you for your valuable feedback-Thank You for your valuable feedback.-Dear Customer, Thank you for your valuable feedback!-Dear Customer, Thank you for your valuable feedback!-Dear Customer, Thank you for your valuable feedback!-Dear Customer, Thank you for your valuable feedback!-Dear Customer, Thank you for your valuable feedback!-Dear Customer, Thank you for your valuable feedback!-Dear Customer, Thank you for your valuable feedback!-Dear Customer, Thank you for your valuable feedback!-'Dear Customer, Thank you for your valuable feedback!-'Dear Customer, Thank you for your valuable feedback!-'Dear Customer, Thank you for your valuable feedback!-Dear Customer, Thank you for your valuable feedback!-'Dear Customer, Thank you for your valuable feedback!-'Dear Customer, Thank you for your valuable feedback!-Dear Customer, Thank you for your valuable feedback!-Dear Customer, Thank you for your valuable feedback We appreciate your Effort!-Dear Customer, Thank you for your valuable feedback!-Thank you Arachana for valuable comment..---------------------\""
      ]
     },
     "execution_count": 37,
     "metadata": {},
     "output_type": "execute_result"
    }
   ],
   "source": [
    "productreviews = driver.find_elements(By.XPATH,\"//div[contains(@class, 'content-review')]\")\n",
    "itemreviews=[]\n",
    "for reviews in productreviews:\n",
    "    itemreviews.append(reviews.text) \n",
    "itemreviews4='-'.join(itemreviews)\n",
    "itemreviews4"
   ]
  },
  {
   "cell_type": "code",
   "execution_count": 38,
   "id": "698de1cf",
   "metadata": {},
   "outputs": [],
   "source": [
    "driver.get(\"https://yoshops.com\"+\"/products/ws887-mini-wireless-bluetooth-speaker1\")"
   ]
  },
  {
   "cell_type": "code",
   "execution_count": 39,
   "id": "2aeb7628",
   "metadata": {},
   "outputs": [
    {
     "data": {
      "text/plain": [
       "\"CASH On Delivery Available-1.Yo-Gift Available-Buy WS887 Mini Wireless Bluetooth Speaker at price Rs.399 from Yoshops.com-Product Detail:-Brand Yoshops-Manufacturer Yoshops-Model For All Smartphones-Item model number WS-887 Mini speaker-Product Dimensions 5 x 5 x 10 cm-Item model number For All Smartphones-Mounting Hardware 1x 887Speakers-Power Source Battery Powered-Connector Type Bluetooth, Auxillary-Material Plastic and Metal-Product Description:-WS-887 Mini bluetoothe speaker has unique design and miniature size,you can carry it once you travel,go to gym or hike.Bluetooth Speaker Features Supports answering phone calls while playing music. Built-in FM radio. Plug-in style mini speaker supports TF/SD card. High-quality solid sound and impressive stereo sound performance,you can hear everything your song want to you to listen to . Compatible with table PCs, smart phones and various sorts of Bluetooth-enabled devices. Wireless Speaker The Speaker is meant to be the right outdoor companion for days at the beach, nights out by a bonfire and picnics within the park. It's versatile enough to be used for your personal needs also as house parties. it is also very easy to use - all you would like to try to to is charge them up, connect them together with your phone and press that play button. Sound This speaker leverages the advancements in Bluetooth technology along side top-notch components and style to supply a really capable audio experience. With vibrant highs and authoritative bass, this speaker gives you an entire listening experience when it involves fidelity. Portable Small and lightweight enough to drop into your picnic bag, baggage , man bag or maybe your handbag! Perfect to be used within the home, garden, on the beach, picnics and almost anywhere. Power Options Dual-mode power supply: built-in lithium battery, are often used via USB interface, power supplyUSB interface design, plug and play, easy to put in and operate. Compact and light-weight , easy to hold . With AUX port supported,you can connect with device that do not have bluetooth.So you do not need to buy a replacement play device with bluetooth. This wireless speaker is compatible together with your smartphone,Pc,laptop and tablet,easy to attach within 10 meter range.Built-n FM radio Plug-in style mini speaker supports TF/SD card Compatible with table PCs, smart phones and various sorts of Bluetooth-enabled devices.USB interface design, plug and play, easy to put in and operate.Portable design convenient for you to hold with, enjoy music at any time and at any places\""
      ]
     },
     "execution_count": 39,
     "metadata": {},
     "output_type": "execute_result"
    }
   ],
   "source": [
    "productdetails = driver.find_elements(By.XPATH,\"//div[contains(@class, 'peekaboo-inner clearfix')]\")\n",
    "itemdetails=[]\n",
    "for details in productdetails:\n",
    "    itemdetails.append(details.text) \n",
    "while '' in itemdetails:\n",
    "    itemdetails.remove('')\n",
    "itemdetails5='-'.join(itemdetails)\n",
    "itemdetails5 = itemdetails5.replace('\\n','-')\n",
    "itemdetails5"
   ]
  },
  {
   "cell_type": "code",
   "execution_count": 40,
   "id": "fd950c95",
   "metadata": {},
   "outputs": [
    {
     "data": {
      "text/plain": [
       "''"
      ]
     },
     "execution_count": 40,
     "metadata": {},
     "output_type": "execute_result"
    }
   ],
   "source": [
    "reviewer = driver.find_elements(By.XPATH,\"//span[contains(@class, 'y-label yotpo-user-name yotpo-font-bold pull-left')]\")\n",
    "reviewername = []\n",
    "for details in reviewer:\n",
    "    reviewername.append(details.text) \n",
    "while '' in reviewername:\n",
    "    reviewername.remove('')\n",
    "reviewername5='-'.join(reviewername)\n",
    "reviewername5"
   ]
  },
  {
   "cell_type": "code",
   "execution_count": 41,
   "id": "c7a5e95c",
   "metadata": {},
   "outputs": [
    {
     "data": {
      "text/plain": [
       "'-'"
      ]
     },
     "execution_count": 41,
     "metadata": {},
     "output_type": "execute_result"
    }
   ],
   "source": [
    "productreviews =  driver.find_elements(By.XPATH,\"//div[contains(@class, 'content-review')]\")\n",
    "itemreviews=[]\n",
    "for reviews in productreviews:\n",
    "    itemreviews.append(reviews.text) \n",
    "itemreviews5='-'.join(itemreviews)\n",
    "itemreviews5"
   ]
  },
  {
   "cell_type": "code",
   "execution_count": 42,
   "id": "993e79c8",
   "metadata": {},
   "outputs": [],
   "source": [
    "driver.get(\"https://yoshops.com\"+\"/products/mini-vr-box-virtual-reality-headsets-with-ultra-3d-glasses-compatible-with-android-and-ios-devices-blue-black\")"
   ]
  },
  {
   "cell_type": "code",
   "execution_count": 47,
   "id": "6bd4fd2b",
   "metadata": {},
   "outputs": [
    {
     "data": {
      "text/plain": [
       "\"CASH On Delivery Available-1.Yo-Gift Available-Buy Minions Mini VR BOX at the price of Rs.999 from Yoshops.com-Product Detail:-Brand: Yoshops-Model no: MINIVR01-Display Type:Curved Based-Suitable For:Gaming, Entertainment, Functional-Color: Blue-Compatible Eye: Both-Resolution:3D-Platform Features: Compatible OS, Android,IOS--Product Description:-The VR BOX case Mini brings you wonderful experience of watching 3D movies and playing 3D games 2.Materials: Uses ABS and 42 mm spherical resin lens material without stimulation plastic sheet 3.Offers you super 3D picture effect and wonderful feeling 4.Simulating viewing distance: provide you with a 1000 inches big screen at the space of 3m 5.Easy to place your smartphone into the 3D glasses ( Easily pull the smart phone storage box out, the put your smartphone in it ) 6. Perfectly suitable for your face once you wear the 3D Glasses 7.Flexible and adjustable headband is suitable for various people 8.You will not feel visual fatigue and dizziness even you employ it for an extended time due to the resin lens 9.Adjustable pupil distance and sight distance, satisfying different groups of individuals, optical AxisSliding control operation, you'll slightly adjust the position of the spherical resin lens through moving, the button on the highest of the so on get a far better experience of watching movies 10. Greatly enjoy a personal visual feast comfortably and convenient to use, allowing you to watch at anytime anywhere whether sitting, lying or standing as you wish, it's an excellent companion for traveling or staying reception 11. Suitable for nearly all types of smartphones ( Android / IOS, etc) that screen between 4.5 -- 6.0 inches 12.With a compact portable design, easy to hold.\""
      ]
     },
     "execution_count": 47,
     "metadata": {},
     "output_type": "execute_result"
    }
   ],
   "source": [
    "productdetails = driver.find_elements(By.XPATH,\"//div[contains(@class, 'peekaboo-inner clearfix')]\")\n",
    "itemdetails=[]\n",
    "for details in productdetails:\n",
    "    itemdetails.append(details.text) \n",
    "while '' in itemdetails:\n",
    "    itemmdetdetails.remove('')\n",
    "itemdetails6='-'.join(itemdetails)\n",
    "itemdetails6 = itemdetails6.replace('\\n','-')\n",
    "itemdetails6"
   ]
  },
  {
   "cell_type": "code",
   "execution_count": 49,
   "id": "cc085e41",
   "metadata": {},
   "outputs": [
    {
     "data": {
      "text/plain": [
       "'Hello'"
      ]
     },
     "execution_count": 49,
     "metadata": {},
     "output_type": "execute_result"
    }
   ],
   "source": [
    "reviewer =  driver.find_elements(By.XPATH,\"//span[contains(@class, 'y-label yotpo-user-name yotpo-font-bold pull-left')]\")\n",
    "reviewername = []\n",
    "for details in reviewer:\n",
    "    reviewername.append(details.text) \n",
    "while '' in reviewername:\n",
    "    reviewername.remove('')\n",
    "reviewername6='-'.join(reviewername)\n",
    "reviewername6"
   ]
  },
  {
   "cell_type": "code",
   "execution_count": 50,
   "id": "a5f05605",
   "metadata": {},
   "outputs": [
    {
     "data": {
      "text/plain": [
       "'-good--'"
      ]
     },
     "execution_count": 50,
     "metadata": {},
     "output_type": "execute_result"
    }
   ],
   "source": [
    "productreviews =  driver.find_elements(By.XPATH,\"//div[contains(@class, 'content-review')]\")\n",
    "itemreviews=[]\n",
    "for reviews in productreviews:\n",
    "    itemreviews.append(reviews.text) \n",
    "itemreviews6='-'.join(itemreviews)\n",
    "itemreviews6"
   ]
  },
  {
   "cell_type": "code",
   "execution_count": 51,
   "id": "3378573a",
   "metadata": {},
   "outputs": [],
   "source": [
    "driver.get(\"https://yoshops.com\"+\"/products/reliance-jio-phone1\")"
   ]
  },
  {
   "cell_type": "code",
   "execution_count": 53,
   "id": "4b38fd73",
   "metadata": {},
   "outputs": [
    {
     "data": {
      "text/plain": [
       "'Product Detail:-Brand Reliance Jio-Model FM90-Rs.1499-GENERAL-Form factor Bar-Removable battery No-Colours Black-SAR value NA-DISPLAY-Screen size (inches) 2.40-Touchscreen No-Resolution 240x320 pixels'"
      ]
     },
     "execution_count": 53,
     "metadata": {},
     "output_type": "execute_result"
    }
   ],
   "source": [
    "productdetails =  driver.find_elements(By.XPATH,\"//div[contains(@class, 'peekaboo-inner clearfix')]\")\n",
    "itemdetails=[]\n",
    "for details in productdetails:\n",
    "    itemdetails.append(details.text) \n",
    "while '' in itemdetails:\n",
    "    itemdetails.remove('')\n",
    "itemdetails7='-'.join(itemdetails)\n",
    "itemdetails7 = itemdetails7.replace('\\n','-')\n",
    "itemdetails7"
   ]
  },
  {
   "cell_type": "code",
   "execution_count": 54,
   "id": "4a298468",
   "metadata": {},
   "outputs": [
    {
     "data": {
      "text/plain": [
       "'Antima-Khushi-Tramp-Yoshops (.-parth-Yoshops-SudhagarSvS-SudhagarSvS-SudhagarSvS-SudhagarSvS-SudhagarSvS-SudhagarSvS-SudhagarSvS-SudhagarSvS-SudhagarSvS-SudhagarSvS-SudhagarSvS-SudhagarSvS-SudhagarSvS-SudhagarSvS'"
      ]
     },
     "execution_count": 54,
     "metadata": {},
     "output_type": "execute_result"
    }
   ],
   "source": [
    "reviewer =  driver.find_elements(By.XPATH,\"//span[contains(@class, 'y-label yotpo-user-name yotpo-font-bold pull-left')]\")\n",
    "reviewername = []\n",
    "for details in reviewer:\n",
    "    reviewername.append(details.text) \n",
    "while '' in reviewername:\n",
    "    reviewername.remove('')\n",
    "reviewername7='-'.join(reviewername)\n",
    "reviewername7"
   ]
  },
  {
   "cell_type": "code",
   "execution_count": 55,
   "id": "48d02157",
   "metadata": {},
   "outputs": [
    {
     "data": {
      "text/plain": [
       "\"-Thankyou for your valuable feedback-Thankyou for your feedback-It's a good product-'Dear Customer, Thank you for your valuable feedback!-great-Dear Customer, Thankyou for the feedback, keep shopping-Dear Customer, Thank you for your valuable feedback!-Dear Customer, Thank you for your valuable feedback!-Dear Customer, Thank you for your valuable feedback!-Dear Customer, Thank you for your valuable feedback!-Dear Customer, Thank you for your valuable feedback!-Dear Customer, Thank you for your valuable feedback!-Dear Customer, Thank you for your valuable feedback!-Dear Customer, Thank you for your valuable feedback!-Dear Customer, Thank you for your valuable feedback!-Dear Customer, Thank you for your valuable feedback!-Dear Customer, Thank you for your valuable feedback!-Dear Customer, Thank you for your valuable feedback!-Dear Customer, Thank you for your valuable feedback!-Dear Customer, Thank you for your valuable feedback!---------------------\""
      ]
     },
     "execution_count": 55,
     "metadata": {},
     "output_type": "execute_result"
    }
   ],
   "source": [
    "productreviews =  driver.find_elements(By.XPATH,\"//div[contains(@class, 'content-review')]\")\n",
    "itemreviews=[]\n",
    "for reviews in productreviews:\n",
    "    itemreviews.append(reviews.text) \n",
    "itemreviews7='-'.join(itemreviews)\n",
    "itemreviews7"
   ]
  },
  {
   "cell_type": "code",
   "execution_count": 56,
   "id": "f928e01f",
   "metadata": {},
   "outputs": [],
   "source": [
    "driver.get(\"https://yoshops.com\"+\"/products/hx-750-remote-control-flying-drone\")"
   ]
  },
  {
   "cell_type": "code",
   "execution_count": 57,
   "id": "3332603d",
   "metadata": {},
   "outputs": [
    {
     "data": {
      "text/plain": [
       "'₹100 Flat Discount use Coupon Code- yo100-Cash on Delivery available-and Shopping to win prize everyday.-Product Detail:-Model HX750-Article Type: QUAD COPTER-Weight: 90 gm, Length: 20 cm, Width: 20 cm, Height: 3 cm-Flying Height Above 20 meters-Camera: No-Function:- Flight mode, Up/Down Side ward Flight, Headless mode, One key return-Battery For Remote Control:- 3 x 1.5 AA Battery-Product Description:-Once in while along comes a product that instantly becomes a best seller and the remarkable HX 750 Quad copter fits into this category. There are many models that have tried to dominate the Quad copter market but none have been as successful as this fabulous flying machine.'"
      ]
     },
     "execution_count": 57,
     "metadata": {},
     "output_type": "execute_result"
    }
   ],
   "source": [
    "productdetails =  driver.find_elements(By.XPATH,\"//div[contains(@class, 'peekaboo-inner clearfix')]\")\n",
    "itemdetails=[]\n",
    "for details in productdetails:\n",
    "    itemdetails.append(details.text) \n",
    "while '' in itemdetails:\n",
    "    itemdetails.remove('')\n",
    "itemdetails8='-'.join(itemdetails)\n",
    "itemdetails8 = itemdetails8.replace('\\n','-')\n",
    "itemdetails8"
   ]
  },
  {
   "cell_type": "code",
   "execution_count": 58,
   "id": "19ee7f92",
   "metadata": {},
   "outputs": [
    {
     "data": {
      "text/plain": [
       "'SudhagarSvS-SudhagarSvS-SudhagarSvS-SudhagarSvS-SudhagarSvS-SudhagarSvS-SudhagarSvS-SudhagarSvS-Yoshops (.-Yoshops (.-Yoshops (.-Praveen K.-Yoshops (.-Yoshops (.-Pranava K.-Prashant P.-Jeyarajan D.-Rahul-Rahul c.-Aditya B.'"
      ]
     },
     "execution_count": 58,
     "metadata": {},
     "output_type": "execute_result"
    }
   ],
   "source": [
    "reviewer =  driver.find_elements(By.XPATH,\"//span[contains(@class, 'y-label yotpo-user-name yotpo-font-bold pull-left')]\")\n",
    "reviewername = []\n",
    "for details in reviewer:\n",
    "    reviewername.append(details.text) \n",
    "while '' in reviewername:\n",
    "    reviewername.remove('')\n",
    "reviewername8='-'.join(reviewername)\n",
    "reviewername8"
   ]
  },
  {
   "cell_type": "code",
   "execution_count": 59,
   "id": "86371745",
   "metadata": {},
   "outputs": [
    {
     "data": {
      "text/plain": [
       "\"-Dear Customer, Thank you for your valuable feedback!-Dear Customer, Thank you for your valuable feedback!-Dear Customer, Thank you for your valuable feedback!-Dear Customer, Thank you for your valuable feedback!-Dear Customer, Thank you for your valuable feedback!-Dear Customer, Thank you for your valuable feedback!-Dear Customer, Thank you for your valuable feedback!-Dear Customer, Thank you for your valuable feedback!-'Dear Customer, Thank you for your valuable feedback!-'Dear Customer, Thank you for your valuable feedback!-'Dear Customer, Thank you for your valuable feedback!-Dear Customer, Thank you for your valuable feedback!-'Dear Customer, Thank you for your valuable feedback!-'Dear Customer, Thank you for your valuable feedback!-Dear Customer, Thank you for your valuable feedback!-Dear Customer, Thank you for your valuable feedback!-Good Service-I fly this drone it is very stable and easy control very mods like flip ,speed conversation ,trim and very features buy this drone to yoshops best drone-It is a good drone for beginners buy this drone at 1400 by using coupon code=yo100-This drone worth its price.\\nProduct was packed well, shipping was fast.---------------------\""
      ]
     },
     "execution_count": 59,
     "metadata": {},
     "output_type": "execute_result"
    }
   ],
   "source": [
    "productreviews =  driver.find_elements(By.XPATH,\"//div[contains(@class, 'content-review')]\")\n",
    "itemreviews=[]\n",
    "for reviews in productreviews:\n",
    "    itemreviews.append(reviews.text) \n",
    "itemreviews8='-'.join(itemreviews)\n",
    "itemreviews8"
   ]
  },
  {
   "cell_type": "code",
   "execution_count": 60,
   "id": "70dc132f",
   "metadata": {},
   "outputs": [],
   "source": [
    "driver.get(\"https://yoshops.com\"+\"/products/avengers-captain-america-drone-four-axis-aircraft-with-2-4-ghz-rc-blade-guard-headless-mode-led-without-camera\")"
   ]
  },
  {
   "cell_type": "code",
   "execution_count": 62,
   "id": "0bd6cb51",
   "metadata": {},
   "outputs": [
    {
     "data": {
      "text/plain": [
       "'Cash on Delivery available-₹200 Flat Discount use Coupon Code- yo2020-and Shopping to win prizes every day.-Product Detail:-Brand  Marvel-Minimum Age: 3-Built-in 4 Axis-stronger wind resistance and more stable,-for both indoor and outdoor flight Equipped with protective frame to scale back damages thanks to crash.-Camera - No-Flying Height - 40 Mtrs-Flying time: 6-8 Minute,-Weight - 0.2 Kg-Type: remote Toys Accessories'"
      ]
     },
     "execution_count": 62,
     "metadata": {},
     "output_type": "execute_result"
    }
   ],
   "source": [
    "productdetails =  driver.find_elements(By.XPATH,\"//div[contains(@class, 'peekaboo-inner clearfix')]\")\n",
    "itemdetails=[]\n",
    "for details in productdetails:\n",
    "    itemdetails.append(details.text) \n",
    "while '' in itemdetails:\n",
    "    itemdetails.remove('')\n",
    "itemdetails9='-'.join(itemdetails)\n",
    "itemdetails9 = itemdetails9.replace('\\n','-')\n",
    "itemdetails9"
   ]
  },
  {
   "cell_type": "code",
   "execution_count": 63,
   "id": "235c7c8e",
   "metadata": {},
   "outputs": [
    {
     "data": {
      "text/plain": [
       "'SudhagarSvS-SudhagarSvS-SudhagarSvS-Yoshops (.-Prashant P.'"
      ]
     },
     "execution_count": 63,
     "metadata": {},
     "output_type": "execute_result"
    }
   ],
   "source": [
    "reviewer =  driver.find_elements(By.XPATH,\"//span[contains(@class, 'y-label yotpo-user-name yotpo-font-bold pull-left')]\")\n",
    "reviewername = []\n",
    "for details in reviewer:\n",
    "    reviewername.append(details.text) \n",
    "while '' in reviewername:\n",
    "    reviewername.remove('')\n",
    "reviewername9='-'.join(reviewername)\n",
    "reviewername9"
   ]
  },
  {
   "cell_type": "code",
   "execution_count": 64,
   "id": "b75c0883",
   "metadata": {},
   "outputs": [
    {
     "data": {
      "text/plain": [
       "\"-Dear Customer, Thank you for your valuable feedback!-Dear Customer, Thank you for your valuable feedback!-Dear Customer, Thank you for your valuable feedback!-'Dear Customer, Thank you for your valuable feedback!-Dear Customer, Thank you for your valuable feedback!------\""
      ]
     },
     "execution_count": 64,
     "metadata": {},
     "output_type": "execute_result"
    }
   ],
   "source": [
    "productreviews =  driver.find_elements(By.XPATH,\"//div[contains(@class, 'content-review')]\")\n",
    "itemreviews=[]\n",
    "for reviews in productreviews:\n",
    "    itemreviews.append(reviews.text) \n",
    "itemreviews9='-'.join(itemreviews)\n",
    "itemreviews9"
   ]
  },
  {
   "cell_type": "code",
   "execution_count": 65,
   "id": "f942c963",
   "metadata": {},
   "outputs": [],
   "source": [
    "driver.get(\"https://yoshops.com\"+\"/products/olifair-pearls-saffron-and-radiant-effect-night-cream-50ml\")"
   ]
  },
  {
   "cell_type": "code",
   "execution_count": 66,
   "id": "c36dc14c",
   "metadata": {},
   "outputs": [
    {
     "data": {
      "text/plain": [
       "'Cash On Delivery Available-Free Shipping Available-Free One Gift Available-Use Coupon Code for 5% Discount: Neha@gift  -Product Details:-Special Ingredients: Glycerine-Item Form: Cream-Brand:       Olifair-Model Name: Pearls Saffron and Radiant Effect Night Cream-Use for Face-Specific Uses For Product Brightening, Pigmentation, Uneven Skin Tone-Skin Type Normal'"
      ]
     },
     "execution_count": 66,
     "metadata": {},
     "output_type": "execute_result"
    }
   ],
   "source": [
    "productdetails =  driver.find_elements(By.XPATH,\"//div[contains(@class, 'peekaboo-inner clearfix')]\")\n",
    "itemdetails=[]\n",
    "for details in productdetails:\n",
    "    itemdetails.append(details.text) \n",
    "while '' in itemdetails:\n",
    "    itemdetails.remove('')\n",
    "itemdetails10='-'.join(itemdetails)\n",
    "itemdetails10 = itemdetails10.replace('\\n','-')\n",
    "itemdetails10"
   ]
  },
  {
   "cell_type": "code",
   "execution_count": 67,
   "id": "354aed28",
   "metadata": {},
   "outputs": [
    {
     "data": {
      "text/plain": [
       "''"
      ]
     },
     "execution_count": 67,
     "metadata": {},
     "output_type": "execute_result"
    }
   ],
   "source": [
    "reviewer =  driver.find_elements(By.XPATH,\"//span[contains(@class, 'y-label yotpo-user-name yotpo-font-bold pull-left')]\")\n",
    "reviewername = []\n",
    "for details in reviewer:\n",
    "    reviewername.append(details.text) \n",
    "while '' in reviewername:\n",
    "    reviewername.remove('')\n",
    "reviewername10='-'.join(reviewername)\n",
    "reviewername10"
   ]
  },
  {
   "cell_type": "code",
   "execution_count": 68,
   "id": "85aa4111",
   "metadata": {},
   "outputs": [
    {
     "data": {
      "text/plain": [
       "'-'"
      ]
     },
     "execution_count": 68,
     "metadata": {},
     "output_type": "execute_result"
    }
   ],
   "source": [
    "productreviews =  driver.find_elements(By.XPATH,\"//div[contains(@class, 'content-review')]\")\n",
    "itemreviews=[]\n",
    "for reviews in productreviews:\n",
    "    itemreviews.append(reviews.text) \n",
    "itemreviews10='-'.join(itemreviews)\n",
    "itemreviews10"
   ]
  },
  {
   "cell_type": "code",
   "execution_count": 69,
   "id": "48aae01b",
   "metadata": {},
   "outputs": [],
   "source": [
    "driver.get(\"https://yoshops.com\"+\"/products/sony-playstation-ps2-gaming-console-150-gb-hard-disk-with-50-games-preloaded-black\")"
   ]
  },
  {
   "cell_type": "code",
   "execution_count": 72,
   "id": "42c382ae",
   "metadata": {},
   "outputs": [
    {
     "data": {
      "text/plain": [
       "\"Product Detail--·         Box Content: PlayStation 1 Console, 2 Joystick, 1 AV Cable, 1 Power Cord, Memory Card-·         Warranty:1 Year Dealer Warranty-·         Type: AV-·         Memory:     150GB-·         Colour:         BLACK-·         Brand:           SONY-·         Language: ENGLISH-·         Material:     FIBER--Product Description-The PlayStation 2 (PS2), is a home video game console that was manufactured by Sony Computer Entertainment. It is Sony's second installment in the PlayStation Series. The sixth-generation console competed with Sega's Dreamcast, Microsoft's Xbox, and Nintendo's GameCube.New Sony PS2 runs on an Emotion Engine processor that produces precise high-resolution 2D and 3D graphics. Further, it has an inbuilt DVD and CD player that lets you enjoy your favorite movies, TV series, and music. hard disk price, , , sony ps2 HDD, , , sony ps2 hardware, sony ps2. \""
      ]
     },
     "execution_count": 72,
     "metadata": {},
     "output_type": "execute_result"
    }
   ],
   "source": [
    "productdetails =  driver.find_elements(By.XPATH,\"//div[contains(@class, 'peekaboo-inner clearfix')]\")\n",
    "itemdetails=[]\n",
    "for details in productdetails:\n",
    "    itemdetails.append(details.text) \n",
    "while '' in itemdetails:\n",
    "    itemdetails.remove('')\n",
    "itemdetails11='-'.join(itemdetails)\n",
    "itemdetails11 = itemdetails11.replace('\\n','-')\n",
    "itemdetails11"
   ]
  },
  {
   "cell_type": "code",
   "execution_count": 74,
   "id": "d8bb3347",
   "metadata": {},
   "outputs": [
    {
     "data": {
      "text/plain": [
       "'Dipak S.-sxdc-SudhagarSvS-SudhagarSvS-SudhagarSvS-SudhagarSvS-SudhagarSvS-SudhagarSvS-SudhagarSvS-SudhagarSvS-SudhagarSvS-SudhagarSvS-Yoshops (.-Yoshops (.-Yoshops (.-Praveen K.-Praveen K.-Yoshops (.-Yoshops (.-Pranava K.'"
      ]
     },
     "execution_count": 74,
     "metadata": {},
     "output_type": "execute_result"
    }
   ],
   "source": [
    "reviewer =  driver.find_elements(By.XPATH,\"//span[contains(@class, 'y-label yotpo-user-name yotpo-font-bold pull-left')]\")\n",
    "reviewername = []\n",
    "for details in reviewer:\n",
    "    reviewername.append(details.text) \n",
    "while '' in reviewername:\n",
    "    reviewername.remove('')\n",
    "reviewername11='-'.join(reviewername)\n",
    "reviewername11"
   ]
  },
  {
   "cell_type": "code",
   "execution_count": 75,
   "id": "27a3d0c1",
   "metadata": {},
   "outputs": [
    {
     "data": {
      "text/plain": [
       "\"-Dear Customer, Thank You for your valuable feedback.-wegsd-Dear Customer, Thank you for your valuable feedback!-Dear Customer, Thank you for your valuable feedback!-Dear Customer, Thank you for your valuable feedback!-Dear Customer, Thank you for your valuable feedback!-Dear Customer, Thank you for your valuable feedback!-Dear Customer, Thank you for your valuable feedback!-Dear Customer, Thank you for your valuable feedback!-Dear Customer, Thank you for your valuable feedback!-Dear Customer, Thank you for your valuable feedback!-Dear Customer, Thank you for your valuable feedback!-'Dear Customer, Thank you for your valuable feedback!-'Dear Customer, Thank you for your valuable feedback!-'Dear Customer, Thank you for your valuable feedback!-Dear Customer, Thank you for your valuable feedback!-Dear Customer, Thank you for your valuable feedback!-'Dear Customer, Thank you for your valuable feedback!-'Dear Customer, Thank you for your valuable feedback!-Dear Customer, Thank you for your valuable feedback!---------------------\""
      ]
     },
     "execution_count": 75,
     "metadata": {},
     "output_type": "execute_result"
    }
   ],
   "source": [
    "productreviews =  driver.find_elements(By.XPATH,\"//div[contains(@class, 'content-review')]\")\n",
    "itemreviews=[]\n",
    "for reviews in productreviews:\n",
    "    itemreviews.append(reviews.text) \n",
    "itemreviews11='-'.join(itemreviews)\n",
    "itemreviews11"
   ]
  },
  {
   "cell_type": "code",
   "execution_count": 76,
   "id": "fa0d1171",
   "metadata": {},
   "outputs": [],
   "source": [
    " driver.get(\"https://yoshops.com\"+\"/products/bba-online-class-live-tuition-training-program-with-internship1\")"
   ]
  },
  {
   "cell_type": "code",
   "execution_count": 77,
   "id": "f3c32776",
   "metadata": {},
   "outputs": [
    {
     "data": {
      "text/plain": [
       "'Welcome Kits Available-₹100 Flat Discount use Coupon Code- yo100-BBA and BCOM Program --Online Class Detail:-Course Fee- Rs.999-Payment- Monthly-Timings-Monday to Friday -Training Modes-Online & LIVE Classroom-Course Description:'"
      ]
     },
     "execution_count": 77,
     "metadata": {},
     "output_type": "execute_result"
    }
   ],
   "source": [
    "productdetails =  driver.find_elements(By.XPATH,\"//div[contains(@class, 'peekaboo-inner clearfix')]\")\n",
    "itemdetails=[]\n",
    "for details in productdetails:\n",
    "    itemdetails.append(details.text) \n",
    "while '' in itemdetails:\n",
    "    itemdetails.remove('')\n",
    "itemdetails12='-'.join(itemdetails)\n",
    "itemdetails12 = itemdetails12.replace('\\n','-')\n",
    "itemdetails12"
   ]
  },
  {
   "cell_type": "code",
   "execution_count": 78,
   "id": "2963c922",
   "metadata": {},
   "outputs": [
    {
     "data": {
      "text/plain": [
       "''"
      ]
     },
     "execution_count": 78,
     "metadata": {},
     "output_type": "execute_result"
    }
   ],
   "source": [
    "reviewer =  driver.find_elements(By.XPATH,\"//span[contains(@class, 'y-label yotpo-user-name yotpo-font-bold pull-left')]\")\n",
    "reviewername = []\n",
    "for details in reviewer:\n",
    "    reviewername.append(details.text) \n",
    "while '' in reviewername:\n",
    "    reviewername.remove('')\n",
    "reviewername12='-'.join(reviewername)\n",
    "reviewername12"
   ]
  },
  {
   "cell_type": "code",
   "execution_count": 79,
   "id": "c76d21ad",
   "metadata": {},
   "outputs": [
    {
     "data": {
      "text/plain": [
       "'-'"
      ]
     },
     "execution_count": 79,
     "metadata": {},
     "output_type": "execute_result"
    }
   ],
   "source": [
    "productreviews =  driver.find_elements(By.XPATH,\"//div[contains(@class, 'content-review')]\")\n",
    "itemreviews=[]\n",
    "for reviews in productreviews:\n",
    "    itemreviews.append(reviews.text) \n",
    "itemreviews12='-'.join(itemreviews)\n",
    "itemreviews12"
   ]
  },
  {
   "cell_type": "code",
   "execution_count": 80,
   "id": "36f1803a",
   "metadata": {},
   "outputs": [],
   "source": [
    "detailsofproducts = [itemdetails1,itemdetails2,itemdetails3,itemdetails4,itemdetails5,itemdetails6,itemdetails7,itemdetails8,itemdetails9,itemdetails10,itemdetails11,itemdetails12]"
   ]
  },
  {
   "cell_type": "code",
   "execution_count": 81,
   "id": "c8802d10",
   "metadata": {},
   "outputs": [],
   "source": [
    "namesofreviewers = [reviewername1,reviewername2,reviewername3,reviewername4,reviewername5,reviewername6,reviewername7,reviewername8,reviewername9,reviewername10,reviewername11,reviewername12]"
   ]
  },
  {
   "cell_type": "code",
   "execution_count": 82,
   "id": "b82c9c6f",
   "metadata": {},
   "outputs": [],
   "source": [
    "reviewsbyreviewers = [itemreviews1,itemreviews2,itemreviews3,itemreviews4,itemreviews5,itemreviews6,itemreviews7,itemreviews8,itemreviews9,itemreviews10,itemreviews11,itemreviews12]"
   ]
  },
  {
   "cell_type": "code",
   "execution_count": 83,
   "id": "52952aaf",
   "metadata": {},
   "outputs": [
    {
     "name": "stdout",
     "output_type": "stream",
     "text": [
      "                                      Product Details  \\\n",
      "0   Cash On Delivery Available-Free Shipping Avail...   \n",
      "1   Cash On Delivery Available-Free Shipping Avail...   \n",
      "2   Product Detail:-Brand Candytech-Manufacturer n...   \n",
      "3   Cash on Delivery available- ₹100 Flat Discount...   \n",
      "4   CASH On Delivery Available-1.Yo-Gift Available...   \n",
      "5   CASH On Delivery Available-1.Yo-Gift Available...   \n",
      "6   Product Detail:-Brand Reliance Jio-Model FM90-...   \n",
      "7   ₹100 Flat Discount use Coupon Code- yo100-Cash...   \n",
      "8   Cash on Delivery available-₹200 Flat Discount ...   \n",
      "9   Cash On Delivery Available-Free Shipping Avail...   \n",
      "10  Product Detail--·         Box Content: PlaySta...   \n",
      "11  Welcome Kits Available-₹100 Flat Discount use ...   \n",
      "\n",
      "                                       Reviewers Name  \\\n",
      "0                         Sony S.-Kritika-Tak-Kritika   \n",
      "1                        Sony-Sahil-Sahil-Remya-kriti   \n",
      "2                                                       \n",
      "3   MR.L-Mr S.-SudhagarSvS-SudhagarSvS-SudhagarSvS...   \n",
      "4                                                       \n",
      "5                                               Hello   \n",
      "6   Antima-Khushi-Tramp-Yoshops (.-parth-Yoshops-S...   \n",
      "7   SudhagarSvS-SudhagarSvS-SudhagarSvS-SudhagarSv...   \n",
      "8   SudhagarSvS-SudhagarSvS-SudhagarSvS-Yoshops (....   \n",
      "9                                                       \n",
      "10  Dipak S.-sxdc-SudhagarSvS-SudhagarSvS-Sudhagar...   \n",
      "11                                                      \n",
      "\n",
      "                                 Reviews by Reviewers  \n",
      "0   -Thank You for Your Review, plz shop againThan...  \n",
      "1   -Thank You for Your Review-Awesome Sound-Aweso...  \n",
      "2                                                   -  \n",
      "3   -Thank you for your valuable feedback-Thank Yo...  \n",
      "4                                                   -  \n",
      "5                                             -good--  \n",
      "6   -Thankyou for your valuable feedback-Thankyou ...  \n",
      "7   -Dear Customer, Thank you for your valuable fe...  \n",
      "8   -Dear Customer, Thank you for your valuable fe...  \n",
      "9                                                   -  \n",
      "10  -Dear Customer, Thank You for your valuable fe...  \n",
      "11                                                  -  \n"
     ]
    }
   ],
   "source": [
    "df2 = pd.DataFrame(list(zip(detailsofproducts,namesofreviewers,reviewsbyreviewers)),\n",
    "               columns =['Product Details', 'Reviewers Name', 'Reviews by Reviewers'])\n",
    "print(df2)"
   ]
  },
  {
   "cell_type": "code",
   "execution_count": 96,
   "id": "4f809f03",
   "metadata": {},
   "outputs": [
    {
     "data": {
      "text/html": [
       "<div>\n",
       "<style scoped>\n",
       "    .dataframe tbody tr th:only-of-type {\n",
       "        vertical-align: middle;\n",
       "    }\n",
       "\n",
       "    .dataframe tbody tr th {\n",
       "        vertical-align: top;\n",
       "    }\n",
       "\n",
       "    .dataframe thead th {\n",
       "        text-align: right;\n",
       "    }\n",
       "</style>\n",
       "<table border=\"1\" class=\"dataframe\">\n",
       "  <thead>\n",
       "    <tr style=\"text-align: right;\">\n",
       "      <th></th>\n",
       "      <th>Product Name</th>\n",
       "      <th>Old Price in ₹</th>\n",
       "      <th>Discounted Price in ₹</th>\n",
       "      <th>Product Details</th>\n",
       "      <th>Reviewers Name</th>\n",
       "      <th>Reviews by Reviewers</th>\n",
       "    </tr>\n",
       "  </thead>\n",
       "  <tbody>\n",
       "    <tr>\n",
       "      <th>0</th>\n",
       "      <td>Hammer Airflow True Wireless Earbuds (Blue), 5...</td>\n",
       "      <td>4,475.00</td>\n",
       "      <td>799.00</td>\n",
       "      <td>Cash On Delivery Available-Free Shipping Avail...</td>\n",
       "      <td>Sony S.-Kritika-Tak-Kritika</td>\n",
       "      <td>-Thank You for Your Review, plz shop againThan...</td>\n",
       "    </tr>\n",
       "    <tr>\n",
       "      <th>1</th>\n",
       "      <td>Hammer Sting Lite In-Ear Wireless Bluetooth Ne...</td>\n",
       "      <td>3,495.00</td>\n",
       "      <td>699.00</td>\n",
       "      <td>Cash On Delivery Available-Free Shipping Avail...</td>\n",
       "      <td>Sony-Sahil-Sahil-Remya-kriti</td>\n",
       "      <td>-Thank You for Your Review-Awesome Sound-Aweso...</td>\n",
       "    </tr>\n",
       "    <tr>\n",
       "      <th>2</th>\n",
       "      <td>Candytech H111i Supersonic Bass earphone Wired...</td>\n",
       "      <td>456.00</td>\n",
       "      <td>299.00</td>\n",
       "      <td>Product Detail:-Brand Candytech-Manufacturer n...</td>\n",
       "      <td></td>\n",
       "      <td>-</td>\n",
       "    </tr>\n",
       "    <tr>\n",
       "      <th>3</th>\n",
       "      <td>Boat Rockerz 530 Foldable Bluetooth Headphone ...</td>\n",
       "      <td>999.00</td>\n",
       "      <td>799.00</td>\n",
       "      <td>Cash on Delivery available- ₹100 Flat Discount...</td>\n",
       "      <td>MR.L-Mr S.-SudhagarSvS-SudhagarSvS-SudhagarSvS...</td>\n",
       "      <td>-Thank you for your valuable feedback-Thank Yo...</td>\n",
       "    </tr>\n",
       "    <tr>\n",
       "      <th>4</th>\n",
       "      <td>WS887 Mini Wireless Bluetooth Speaker</td>\n",
       "      <td>999.00</td>\n",
       "      <td>399.00</td>\n",
       "      <td>CASH On Delivery Available-1.Yo-Gift Available...</td>\n",
       "      <td></td>\n",
       "      <td>-</td>\n",
       "    </tr>\n",
       "    <tr>\n",
       "      <th>5</th>\n",
       "      <td>Mini VR BOX Virtual Reality Headsets with ultr...</td>\n",
       "      <td>1,487.00</td>\n",
       "      <td>349.00</td>\n",
       "      <td>CASH On Delivery Available-1.Yo-Gift Available...</td>\n",
       "      <td>Hello</td>\n",
       "      <td>-good--</td>\n",
       "    </tr>\n",
       "    <tr>\n",
       "      <th>6</th>\n",
       "      <td>Reliance Jio Phone</td>\n",
       "      <td>1,999.00</td>\n",
       "      <td>1,499.00</td>\n",
       "      <td>Product Detail:-Brand Reliance Jio-Model FM90-...</td>\n",
       "      <td>Antima-Khushi-Tramp-Yoshops (.-parth-Yoshops-S...</td>\n",
       "      <td>-Thankyou for your valuable feedback-Thankyou ...</td>\n",
       "    </tr>\n",
       "    <tr>\n",
       "      <th>7</th>\n",
       "      <td>Vmax HX 750 Quadcopter Drone (No Camera)</td>\n",
       "      <td>4,000.00</td>\n",
       "      <td>1,499.00</td>\n",
       "      <td>₹100 Flat Discount use Coupon Code- yo100-Cash...</td>\n",
       "      <td>SudhagarSvS-SudhagarSvS-SudhagarSvS-SudhagarSv...</td>\n",
       "      <td>-Dear Customer, Thank you for your valuable fe...</td>\n",
       "    </tr>\n",
       "    <tr>\n",
       "      <th>8</th>\n",
       "      <td>Avengers Captain America Drone Four Axis Aircr...</td>\n",
       "      <td>4,678.00</td>\n",
       "      <td>2,299.00</td>\n",
       "      <td>Cash on Delivery available-₹200 Flat Discount ...</td>\n",
       "      <td>SudhagarSvS-SudhagarSvS-SudhagarSvS-Yoshops (....</td>\n",
       "      <td>-Dear Customer, Thank you for your valuable fe...</td>\n",
       "    </tr>\n",
       "    <tr>\n",
       "      <th>9</th>\n",
       "      <td>Olifair Pearls Saffron and Radiant Effect Nigh...</td>\n",
       "      <td>2,232.00</td>\n",
       "      <td>999.00</td>\n",
       "      <td>Cash On Delivery Available-Free Shipping Avail...</td>\n",
       "      <td></td>\n",
       "      <td>-</td>\n",
       "    </tr>\n",
       "    <tr>\n",
       "      <th>10</th>\n",
       "      <td>Sony PlayStation PS2 Gaming Console 150 GB Har...</td>\n",
       "      <td>12,289.00</td>\n",
       "      <td>8,999.00</td>\n",
       "      <td>Product Detail--·         Box Content: PlaySta...</td>\n",
       "      <td>Dipak S.-sxdc-SudhagarSvS-SudhagarSvS-Sudhagar...</td>\n",
       "      <td>-Dear Customer, Thank You for your valuable fe...</td>\n",
       "    </tr>\n",
       "    <tr>\n",
       "      <th>11</th>\n",
       "      <td>BBA Online Class Live Tuition Training Program...</td>\n",
       "      <td>6,500.00</td>\n",
       "      <td>999.00</td>\n",
       "      <td>Welcome Kits Available-₹100 Flat Discount use ...</td>\n",
       "      <td></td>\n",
       "      <td>-</td>\n",
       "    </tr>\n",
       "  </tbody>\n",
       "</table>\n",
       "</div>"
      ],
      "text/plain": [
       "                                         Product Name Old Price in ₹  \\\n",
       "0   Hammer Airflow True Wireless Earbuds (Blue), 5...       4,475.00   \n",
       "1   Hammer Sting Lite In-Ear Wireless Bluetooth Ne...       3,495.00   \n",
       "2   Candytech H111i Supersonic Bass earphone Wired...         456.00   \n",
       "3   Boat Rockerz 530 Foldable Bluetooth Headphone ...         999.00   \n",
       "4               WS887 Mini Wireless Bluetooth Speaker         999.00   \n",
       "5   Mini VR BOX Virtual Reality Headsets with ultr...       1,487.00   \n",
       "6                                  Reliance Jio Phone       1,999.00   \n",
       "7            Vmax HX 750 Quadcopter Drone (No Camera)       4,000.00   \n",
       "8   Avengers Captain America Drone Four Axis Aircr...       4,678.00   \n",
       "9   Olifair Pearls Saffron and Radiant Effect Nigh...       2,232.00   \n",
       "10  Sony PlayStation PS2 Gaming Console 150 GB Har...      12,289.00   \n",
       "11  BBA Online Class Live Tuition Training Program...       6,500.00   \n",
       "\n",
       "   Discounted Price in ₹                                    Product Details  \\\n",
       "0                 799.00  Cash On Delivery Available-Free Shipping Avail...   \n",
       "1                 699.00  Cash On Delivery Available-Free Shipping Avail...   \n",
       "2                 299.00  Product Detail:-Brand Candytech-Manufacturer n...   \n",
       "3                 799.00  Cash on Delivery available- ₹100 Flat Discount...   \n",
       "4                 399.00  CASH On Delivery Available-1.Yo-Gift Available...   \n",
       "5                 349.00  CASH On Delivery Available-1.Yo-Gift Available...   \n",
       "6               1,499.00  Product Detail:-Brand Reliance Jio-Model FM90-...   \n",
       "7               1,499.00  ₹100 Flat Discount use Coupon Code- yo100-Cash...   \n",
       "8               2,299.00  Cash on Delivery available-₹200 Flat Discount ...   \n",
       "9                 999.00  Cash On Delivery Available-Free Shipping Avail...   \n",
       "10              8,999.00  Product Detail--·         Box Content: PlaySta...   \n",
       "11                999.00  Welcome Kits Available-₹100 Flat Discount use ...   \n",
       "\n",
       "                                       Reviewers Name  \\\n",
       "0                         Sony S.-Kritika-Tak-Kritika   \n",
       "1                        Sony-Sahil-Sahil-Remya-kriti   \n",
       "2                                                       \n",
       "3   MR.L-Mr S.-SudhagarSvS-SudhagarSvS-SudhagarSvS...   \n",
       "4                                                       \n",
       "5                                               Hello   \n",
       "6   Antima-Khushi-Tramp-Yoshops (.-parth-Yoshops-S...   \n",
       "7   SudhagarSvS-SudhagarSvS-SudhagarSvS-SudhagarSv...   \n",
       "8   SudhagarSvS-SudhagarSvS-SudhagarSvS-Yoshops (....   \n",
       "9                                                       \n",
       "10  Dipak S.-sxdc-SudhagarSvS-SudhagarSvS-Sudhagar...   \n",
       "11                                                      \n",
       "\n",
       "                                 Reviews by Reviewers  \n",
       "0   -Thank You for Your Review, plz shop againThan...  \n",
       "1   -Thank You for Your Review-Awesome Sound-Aweso...  \n",
       "2                                                   -  \n",
       "3   -Thank you for your valuable feedback-Thank Yo...  \n",
       "4                                                   -  \n",
       "5                                             -good--  \n",
       "6   -Thankyou for your valuable feedback-Thankyou ...  \n",
       "7   -Dear Customer, Thank you for your valuable fe...  \n",
       "8   -Dear Customer, Thank you for your valuable fe...  \n",
       "9                                                   -  \n",
       "10  -Dear Customer, Thank You for your valuable fe...  \n",
       "11                                                  -  "
      ]
     },
     "metadata": {},
     "output_type": "display_data"
    }
   ],
   "source": [
    "df = pd.concat([df1, df2], axis=1, join='inner')\n",
    "display(df)\n",
    "# creating excel writer object\n",
    "storeproductfile1 = pd.ExcelWriter('yoshops-excel.xlsx')"
   ]
  },
  {
   "cell_type": "code",
   "execution_count": 97,
   "id": "2e4b9e14",
   "metadata": {},
   "outputs": [],
   "source": [
    "# write dataframe to excel\n",
    "\n",
    "df.to_excel(storeproductfile1)"
   ]
  },
  {
   "cell_type": "code",
   "execution_count": 98,
   "id": "14d07f62",
   "metadata": {},
   "outputs": [],
   "source": [
    "# save the excel\n",
    "storeproductfile1.save()"
   ]
  },
  {
   "cell_type": "code",
   "execution_count": null,
   "id": "c360b7f0",
   "metadata": {},
   "outputs": [],
   "source": []
  }
 ],
 "metadata": {
  "kernelspec": {
   "display_name": "Python 3 (ipykernel)",
   "language": "python",
   "name": "python3"
  },
  "language_info": {
   "codemirror_mode": {
    "name": "ipython",
    "version": 3
   },
   "file_extension": ".py",
   "mimetype": "text/x-python",
   "name": "python",
   "nbconvert_exporter": "python",
   "pygments_lexer": "ipython3",
   "version": "3.9.12"
  }
 },
 "nbformat": 4,
 "nbformat_minor": 5
}
