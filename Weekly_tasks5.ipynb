{
 "cells": [
  {
   "cell_type": "markdown",
   "id": "bb3b80b3",
   "metadata": {},
   "source": [
    "1.Write a python programm for merge two excel file data to one file\n",
    "\n",
    "Write a python programm to shorting file in different folder means main folder containing 40 word file. Now after shorting create 4 child folder and store 10 file each folder.\n",
    "\n",
    "2.Write a python programm separate duplicate file. Check with mobile number in main excel file and test data doc and if it is same or equal create seperate file and store duplicate file data\n",
    "\n",
    "3.Write a python programm for Shorting file by keywords. input: folder path = text value Create new folder=text value Search Keyword= text value Output: Creat folder with input value and inside folder all shorting files displaying."
   ]
  },
  {
   "cell_type": "code",
   "execution_count": null,
   "id": "bd9c3b7a",
   "metadata": {},
   "outputs": [],
   "source": [
    "# Write a python programm for merge two excel file data to one file"
   ]
  },
  {
   "cell_type": "code",
   "execution_count": 4,
   "id": "4a02f16b",
   "metadata": {},
   "outputs": [
    {
     "name": "stdout",
     "output_type": "stream",
     "text": [
      "excel sheet 1 :\n",
      "   Studentid   Name  Course  Total Marks\n",
      "0          1   Riya     BCA           70\n",
      "1          2   Siya    Bcom           90\n",
      "2          3   Tiya     BSc           85\n",
      "3          4   Hina     Bed           82\n",
      "4          5  Meena  B.Tech           78\n",
      "excel sheet 2 :\n",
      "   Collegetid College Name College City  Year of Passing\n",
      "0         101   ST.Xaviers        Delhi             2021\n",
      "1         102   ST.Loyalla       Mumbai             2022\n",
      "2         103       AARYA        Jaipur             2020\n",
      "3         104          MIT         Pune             2022\n",
      "4         105   NIT Nashik       Nashik             2020\n",
      "merged excel sheet :\n",
      "   Studentid   Name  Course  Total Marks  Collegetid College Name  \\\n",
      "0          1   Riya     BCA           70         101   ST.Xaviers   \n",
      "1          2   Siya    Bcom           90         102   ST.Loyalla   \n",
      "2          3   Tiya     BSc           85         103       AARYA    \n",
      "3          4   Hina     Bed           82         104          MIT   \n",
      "4          5  Meena  B.Tech           78         105   NIT Nashik   \n",
      "\n",
      "  College City  Year of Passing  \n",
      "0        Delhi             2021  \n",
      "1       Mumbai             2022  \n",
      "2       Jaipur             2020  \n",
      "3         Pune             2022  \n",
      "4       Nashik             2020  \n"
     ]
    }
   ],
   "source": [
    "import pandas as pd\n",
    "df1= pd.read_excel(\"C:/Users/nawin/OneDrive/Desktop/datascience/student1.xlsx\")\n",
    "df2= pd.read_excel(\"C:/Users/nawin/OneDrive/Desktop/datascience/student2.xlsx\")\n",
    "df= pd.concat([df1, df2], axis=1)\n",
    "print(\"excel sheet 1 :\")\n",
    "print(df1)\n",
    "print(\"excel sheet 2 :\")\n",
    "print(df2)\n",
    "print(\"merged excel sheet :\")\n",
    "print(df)"
   ]
  },
  {
   "cell_type": "code",
   "execution_count": null,
   "id": "399e68b1",
   "metadata": {},
   "outputs": [],
   "source": [
    "#Write a python programm to sorting file in different folder means main folder containing 40 word file.\n",
    "#Now after sorting create 4 child folder and store 10 file each folder."
   ]
  },
  {
   "cell_type": "code",
   "execution_count": 7,
   "id": "89bdd2a2",
   "metadata": {},
   "outputs": [
    {
     "name": "stdout",
     "output_type": "stream",
     "text": [
      "C:\\Users\\nawin\\OneDrive\\Desktop\\datascience\\mainfolder\\\n",
      "['223.docx', 'Assignment No 1.docx', 'Assignment No 11.docx', 'Assignment No 1134.docx', 'Assignment No 121.docx', 'Assignment No 121dgd.docx', 'Assignment No 2.docx', 'Assignment No 21.docx', 'Assignment No 211.docx', 'Assignment No 21rt.docx', 'Assignment No 21rtref.docx', 'Assignment No 3.docx', 'Assignment No 31.docx', 'Assignment No 31erre.docx', 'Assignment No 31errefefef.docx', 'Assignment No 4.docx', 'Assignment No 41).docx', 'Assignment No 41)44.docx', 'Assignment No 41)44gdg.docx', 'Assignment No 434.docx', 'Assignment No 5.docx', 'Assignment No 51).docx', 'Assignment No 51)dfd.docx', 'Assignment No 544.docx', 'Assignment No 61.docx', 'Assignment No 61dgd.docx', 'Cloud Infrastructure and Services.docx', 'create database practice.docx', 'nnnvvvvvddddd.docx', 'NOTES SEM 2.docx', 'NOTES SEM 21.docx', 'Programs in Java.docx', 'Question 1 Ans.docx', 'Question 1 Ans22.docx', 'researchreport1.docx', 'researchreport12.docx', 'Retail mart management.docx', 'rreport.docx', 'Software Project Management Assignment.docx', 'tata.docx']\n"
     ]
    }
   ],
   "source": [
    "import os\n",
    "import shutil\n",
    "\n",
    "mainfolder = r'C:\\Users\\nawin\\OneDrive\\Desktop\\datascience\\mainfolder'+'\\\\'\n",
    "childfolder = r'C:\\Users\\nawin\\OneDrive\\Desktop\\datascience\\child'+'\\\\'\n",
    "\n",
    "for path,dir,files in os.walk(mainfolder):\n",
    "    print(path)\n",
    "    print(files)"
   ]
  },
  {
   "cell_type": "code",
   "execution_count": 8,
   "id": "1f5168f9",
   "metadata": {},
   "outputs": [],
   "source": [
    "for path,dir,files in os.walk(mainfolder):\n",
    "    if files:\n",
    "        for file in files:\n",
    "            if not os.path.isfile(childfolder + file):\n",
    "                os.rename(path + '\\\\' + file, childfolder + file)"
   ]
  },
  {
   "cell_type": "code",
   "execution_count": 9,
   "id": "baedbe2c",
   "metadata": {},
   "outputs": [
    {
     "name": "stdout",
     "output_type": "stream",
     "text": [
      "C:\\Users\\nawin\\OneDrive\\Desktop\\datascience\\child\\\n",
      "['223.docx', 'Assignment No 1.docx', 'Assignment No 11.docx', 'Assignment No 1134.docx', 'Assignment No 121.docx', 'Assignment No 121dgd.docx', 'Assignment No 2.docx', 'Assignment No 21.docx', 'Assignment No 211.docx', 'Assignment No 21rt.docx', 'Assignment No 21rtref.docx', 'Assignment No 3.docx', 'Assignment No 31.docx', 'Assignment No 31erre.docx', 'Assignment No 31errefefef.docx', 'Assignment No 4.docx', 'Assignment No 41).docx', 'Assignment No 41)44.docx', 'Assignment No 41)44gdg.docx', 'Assignment No 434.docx', 'Assignment No 5.docx', 'Assignment No 51).docx', 'Assignment No 51)dfd.docx', 'Assignment No 544.docx', 'Assignment No 61.docx', 'Assignment No 61dgd.docx', 'Cloud Infrastructure and Services.docx', 'create database practice.docx', 'nnnvvvvvddddd.docx', 'NOTES SEM 2.docx', 'NOTES SEM 21.docx', 'Programs in Java.docx', 'Question 1 Ans.docx', 'Question 1 Ans22.docx', 'researchreport1.docx', 'researchreport12.docx', 'Retail mart management.docx', 'rreport.docx', 'Software Project Management Assignment.docx', 'tata.docx']\n"
     ]
    }
   ],
   "source": [
    "for path,dir,files in os.walk(childfolder):\n",
    "    print(path)\n",
    "    print(files)"
   ]
  },
  {
   "cell_type": "code",
   "execution_count": 13,
   "id": "70328285",
   "metadata": {},
   "outputs": [
    {
     "name": "stdout",
     "output_type": "stream",
     "text": [
      "223.docx\n",
      "Assignment No 1.docx\n",
      "Assignment No 11.docx\n",
      "Assignment No 1134.docx\n",
      "Assignment No 121.docx\n",
      "Assignment No 121dgd.docx\n",
      "Assignment No 2.docx\n",
      "Assignment No 21.docx\n",
      "Assignment No 211.docx\n",
      "Assignment No 21rt.docx\n",
      "Assignment No 21rtref.docx\n",
      "Assignment No 3.docx\n",
      "Assignment No 31.docx\n",
      "Assignment No 31erre.docx\n",
      "Assignment No 31errefefef.docx\n",
      "Assignment No 4.docx\n",
      "Assignment No 41).docx\n",
      "Assignment No 41)44.docx\n",
      "Assignment No 41)44gdg.docx\n",
      "Assignment No 434.docx\n",
      "Assignment No 5.docx\n",
      "Assignment No 51).docx\n",
      "Assignment No 51)dfd.docx\n",
      "Assignment No 544.docx\n",
      "Assignment No 61.docx\n",
      "Assignment No 61dgd.docx\n",
      "Cloud Infrastructure and Services.docx\n",
      "NOTES SEM 2.docx\n",
      "NOTES SEM 21.docx\n",
      "Programs in Java.docx\n",
      "Question 1 Ans.docx\n",
      "Question 1 Ans22.docx\n",
      "Retail mart management.docx\n",
      "Software Project Management Assignment.docx\n",
      "create database practice.docx\n",
      "nnnvvvvvddddd.docx\n",
      "researchreport1.docx\n",
      "researchreport12.docx\n",
      "rreport.docx\n",
      "tata.docx\n"
     ]
    }
   ],
   "source": [
    "#directory name\n",
    "import os\n",
    "dirname = 'C:/Users/nawin/OneDrive/Desktop/datascience/child/'\n",
    "# list of all files in a given directory sorted by name\n",
    "listoffiles = sorted( filter( lambda x: os.path.isfile(os.path.join(dirname, x)),\n",
    "                        os.listdir(dirname) ) )\n",
    "for filename in listoffiles:\n",
    "    print(filename)"
   ]
  },
  {
   "cell_type": "code",
   "execution_count": 15,
   "id": "a4a4643d",
   "metadata": {},
   "outputs": [],
   "source": [
    "import os\n",
    "path = 'C:/Users/nawin/OneDrive/Desktop/datascience/childsorted/'\n",
    "for i in range(0,4):\n",
    "    os.chdir(path)\n",
    "    Newchildfolders = 'subFolder'+str(i)\n",
    "    os.makedirs(Newchildfolders)"
   ]
  },
  {
   "cell_type": "code",
   "execution_count": 20,
   "id": "86ecd8dd",
   "metadata": {},
   "outputs": [],
   "source": [
    "i=0\n",
    "j=0\n",
    "k=0\n",
    "for i in range(0,4):\n",
    "    for j in range(0,10):\n",
    "        src = 'C:/Users/nawin/OneDrive/Desktop/datascience/child/'+listoffiles[k]\n",
    "        dst = 'C:/Users/nawin/OneDrive/Desktop/datascience/childsorted/subfolder'+str(i)\n",
    "        shutil.copy2(ds1,ds2)\n",
    "        k=k+1"
   ]
  },
  {
   "cell_type": "code",
   "execution_count": null,
   "id": "35aaf4ba",
   "metadata": {},
   "outputs": [],
   "source": [
    "# Write a python program to  separate duplicate file ."
   ]
  },
  {
   "cell_type": "code",
   "execution_count": null,
   "id": "de49a6f6",
   "metadata": {},
   "outputs": [],
   "source": [
    "# Importing Libraries\n",
    "import os\n",
    "from pathlib import Path\n",
    "from filecmp import cmp\n",
    "  \n",
    "  \n",
    "# list of all documents\n",
    "DATA_DIR = Path('\"C:\\Users\\nawin\\OneDrive\\Desktop\\datascience\\student1.xlsx\"')\n",
    "files = sorted(os.listdir(DATA_DIR))\n",
    "  \n",
    "# List having the classes of documents\n",
    "# with the same content\n",
    "duplicateFiles = []\n",
    "  \n",
    "# comparison of the documents\n",
    "for file_x in files:\n",
    "  \n",
    "    if_dupl = False\n",
    "  \n",
    "    for class_ in duplicateFiles:\n",
    "        # Comparing files having same content using cmp()\n",
    "        # class_[0] represents a class having same content\n",
    "        if_dupl = cmp(\n",
    "            DATA_DIR / file_x,\n",
    "            DATA_DIR / class_[0],\n",
    "            shallow=False\n",
    "        )\n",
    "        if if_dupl:\n",
    "            class_.append(file_x)\n",
    "            break\n",
    "  \n",
    "    if not if_dupl:\n",
    "        duplicateFiles.append([file_x])\n",
    "  \n",
    "# Print results\n",
    "print(duplicateFiles)\n",
    "\n",
    "\n",
    "\n",
    "\n"
   ]
  },
  {
   "cell_type": "code",
   "execution_count": null,
   "id": "16c0029b",
   "metadata": {},
   "outputs": [],
   "source": [
    "# Check with mobile number in main excel file and test data doc and if it is same or equal create seperate file \n",
    "# and store duplicate file data"
   ]
  },
  {
   "cell_type": "code",
   "execution_count": 30,
   "id": "de83c4f7",
   "metadata": {},
   "outputs": [
    {
     "name": "stdout",
     "output_type": "stream",
     "text": [
      "    Name  Course  Total Marks College Name          Emailid\n",
      "0   Riya     BCA           70   ST.Xaviers   riya@gmail.com\n",
      "1   Siya    Bcom           90   ST.Loyalla   siya@gmail.com\n",
      "2   Riya     BCA           70   ST.Xaviers   riya@gmail.com\n",
      "3   Hina     Bed           82          MIT   hina@gmail.com\n",
      "4  Meena  B.Tech           78   NIT Nashik  meena@gmail.com\n",
      "5   Mona  B.Tech           88          KIT   mona@gmail.com\n",
      "6  Meena  B.Tech           78   NIT Nashik  meena@gmail.com\n",
      "7   Tiya     Bsc           85       AARYA    tiya@gmail.com\n",
      "8   Mona  B.Tech           88          KIT   mona@gmail.com\n",
      "9   Riya    BCA            70   ST.Xaviers   riya@gmail.com\n"
     ]
    }
   ],
   "source": [
    "import pandas as pd\n",
    "dfmailfile = pd.read_excel('C:/Users/nawin/OneDrive/Desktop/datascience/student1.xlsx')\n",
    "print(dfmailfile)"
   ]
  },
  {
   "cell_type": "code",
   "execution_count": 31,
   "id": "c134f869",
   "metadata": {},
   "outputs": [
    {
     "name": "stdout",
     "output_type": "stream",
     "text": [
      "Duplicate Rows :\n"
     ]
    },
    {
     "data": {
      "text/html": [
       "<div>\n",
       "<style scoped>\n",
       "    .dataframe tbody tr th:only-of-type {\n",
       "        vertical-align: middle;\n",
       "    }\n",
       "\n",
       "    .dataframe tbody tr th {\n",
       "        vertical-align: top;\n",
       "    }\n",
       "\n",
       "    .dataframe thead th {\n",
       "        text-align: right;\n",
       "    }\n",
       "</style>\n",
       "<table border=\"1\" class=\"dataframe\">\n",
       "  <thead>\n",
       "    <tr style=\"text-align: right;\">\n",
       "      <th></th>\n",
       "      <th>Name</th>\n",
       "      <th>Course</th>\n",
       "      <th>Total Marks</th>\n",
       "      <th>College Name</th>\n",
       "      <th>Emailid</th>\n",
       "    </tr>\n",
       "  </thead>\n",
       "  <tbody>\n",
       "    <tr>\n",
       "      <th>2</th>\n",
       "      <td>Riya</td>\n",
       "      <td>BCA</td>\n",
       "      <td>70</td>\n",
       "      <td>ST.Xaviers</td>\n",
       "      <td>riya@gmail.com</td>\n",
       "    </tr>\n",
       "    <tr>\n",
       "      <th>6</th>\n",
       "      <td>Meena</td>\n",
       "      <td>B.Tech</td>\n",
       "      <td>78</td>\n",
       "      <td>NIT Nashik</td>\n",
       "      <td>meena@gmail.com</td>\n",
       "    </tr>\n",
       "    <tr>\n",
       "      <th>8</th>\n",
       "      <td>Mona</td>\n",
       "      <td>B.Tech</td>\n",
       "      <td>88</td>\n",
       "      <td>KIT</td>\n",
       "      <td>mona@gmail.com</td>\n",
       "    </tr>\n",
       "  </tbody>\n",
       "</table>\n",
       "</div>"
      ],
      "text/plain": [
       "    Name  Course  Total Marks College Name          Emailid\n",
       "2   Riya     BCA           70   ST.Xaviers   riya@gmail.com\n",
       "6  Meena  B.Tech           78   NIT Nashik  meena@gmail.com\n",
       "8   Mona  B.Tech           88          KIT   mona@gmail.com"
      ]
     },
     "execution_count": 31,
     "metadata": {},
     "output_type": "execute_result"
    }
   ],
   "source": [
    "# Selecting duplicate rows except first\n",
    "# occurrence based on all columns\n",
    "duplicate = dfmailfile[dfmailfile.duplicated()]\n",
    " \n",
    "print(\"Duplicate Rows :\")\n",
    " \n",
    "# Print the resultant Dataframe\n",
    "duplicate"
   ]
  },
  {
   "cell_type": "code",
   "execution_count": 32,
   "id": "5ffbbf9e",
   "metadata": {},
   "outputs": [],
   "source": [
    "# creating excel writer object\n",
    "writer_duplicate = pd.ExcelWriter('duplicate-excel.xlsx')\n",
    "# write dataframe to excel\n",
    " \n",
    "duplicate.to_excel(writer_duplicate)\n",
    " \n",
    "# save the excel\n",
    "writer_duplicate.save()"
   ]
  },
  {
   "cell_type": "code",
   "execution_count": 35,
   "id": "b9f44c1f",
   "metadata": {},
   "outputs": [
    {
     "name": "stdout",
     "output_type": "stream",
     "text": [
      "New Dataframe After Removing Duplicate Rows :\n"
     ]
    },
    {
     "data": {
      "text/html": [
       "<div>\n",
       "<style scoped>\n",
       "    .dataframe tbody tr th:only-of-type {\n",
       "        vertical-align: middle;\n",
       "    }\n",
       "\n",
       "    .dataframe tbody tr th {\n",
       "        vertical-align: top;\n",
       "    }\n",
       "\n",
       "    .dataframe thead th {\n",
       "        text-align: right;\n",
       "    }\n",
       "</style>\n",
       "<table border=\"1\" class=\"dataframe\">\n",
       "  <thead>\n",
       "    <tr style=\"text-align: right;\">\n",
       "      <th></th>\n",
       "      <th>Name</th>\n",
       "      <th>Course</th>\n",
       "      <th>Total Marks</th>\n",
       "      <th>College Name</th>\n",
       "      <th>Emailid</th>\n",
       "    </tr>\n",
       "  </thead>\n",
       "  <tbody>\n",
       "    <tr>\n",
       "      <th>0</th>\n",
       "      <td>Riya</td>\n",
       "      <td>BCA</td>\n",
       "      <td>70</td>\n",
       "      <td>ST.Xaviers</td>\n",
       "      <td>riya@gmail.com</td>\n",
       "    </tr>\n",
       "    <tr>\n",
       "      <th>1</th>\n",
       "      <td>Siya</td>\n",
       "      <td>Bcom</td>\n",
       "      <td>90</td>\n",
       "      <td>ST.Loyalla</td>\n",
       "      <td>siya@gmail.com</td>\n",
       "    </tr>\n",
       "    <tr>\n",
       "      <th>3</th>\n",
       "      <td>Hina</td>\n",
       "      <td>Bed</td>\n",
       "      <td>82</td>\n",
       "      <td>MIT</td>\n",
       "      <td>hina@gmail.com</td>\n",
       "    </tr>\n",
       "    <tr>\n",
       "      <th>4</th>\n",
       "      <td>Meena</td>\n",
       "      <td>B.Tech</td>\n",
       "      <td>78</td>\n",
       "      <td>NIT Nashik</td>\n",
       "      <td>meena@gmail.com</td>\n",
       "    </tr>\n",
       "    <tr>\n",
       "      <th>5</th>\n",
       "      <td>Mona</td>\n",
       "      <td>B.Tech</td>\n",
       "      <td>88</td>\n",
       "      <td>KIT</td>\n",
       "      <td>mona@gmail.com</td>\n",
       "    </tr>\n",
       "    <tr>\n",
       "      <th>7</th>\n",
       "      <td>Tiya</td>\n",
       "      <td>Bsc</td>\n",
       "      <td>85</td>\n",
       "      <td>AARYA</td>\n",
       "      <td>tiya@gmail.com</td>\n",
       "    </tr>\n",
       "    <tr>\n",
       "      <th>9</th>\n",
       "      <td>Riya</td>\n",
       "      <td>BCA</td>\n",
       "      <td>70</td>\n",
       "      <td>ST.Xaviers</td>\n",
       "      <td>riya@gmail.com</td>\n",
       "    </tr>\n",
       "  </tbody>\n",
       "</table>\n",
       "</div>"
      ],
      "text/plain": [
       "    Name  Course  Total Marks College Name          Emailid\n",
       "0   Riya     BCA           70   ST.Xaviers   riya@gmail.com\n",
       "1   Siya    Bcom           90   ST.Loyalla   siya@gmail.com\n",
       "3   Hina     Bed           82          MIT   hina@gmail.com\n",
       "4  Meena  B.Tech           78   NIT Nashik  meena@gmail.com\n",
       "5   Mona  B.Tech           88          KIT   mona@gmail.com\n",
       "7   Tiya     Bsc           85       AARYA    tiya@gmail.com\n",
       "9   Riya    BCA            70   ST.Xaviers   riya@gmail.com"
      ]
     },
     "execution_count": 35,
     "metadata": {},
     "output_type": "execute_result"
    }
   ],
   "source": [
    "dfno_ofduplicates = dfmailfile.drop_duplicates()\n",
    "print(\"New Dataframe After Removing Duplicate Rows :\")\n",
    " \n",
    "# Print the resultant Dataframe\n",
    "dfno_ofduplicates"
   ]
  },
  {
   "cell_type": "code",
   "execution_count": 37,
   "id": "a2969e7a",
   "metadata": {},
   "outputs": [],
   "source": [
    "# creating excel writer object\n",
    "writer_no_duplicate_rows = pd.ExcelWriter('no-duplicate-excel.xlsx')\n",
    "# write dataframe to excel\n",
    " \n",
    "dfno_ofduplicates.to_excel(writer_no_duplicate_rows)\n",
    " \n",
    "# save the excel\n",
    "writer_no_duplicate_rows.save()"
   ]
  },
  {
   "cell_type": "code",
   "execution_count": null,
   "id": "a5641417",
   "metadata": {},
   "outputs": [],
   "source": [
    "# sorting files in folder based on their size"
   ]
  },
  {
   "cell_type": "code",
   "execution_count": 41,
   "id": "82deb903",
   "metadata": {},
   "outputs": [
    {
     "name": "stdout",
     "output_type": "stream",
     "text": [
      "(15555, 'Retail mart management.docx')\n",
      "(15666, 'tata.docx')\n",
      "(16259, 'Question 1 Ans.docx')\n",
      "(16259, 'Question 1 Ans22.docx')\n",
      "(20844, 'create database practice.docx')\n",
      "(23141, 'Cloud Infrastructure and Services.docx')\n",
      "(25533, 'Assignment No 51).docx')\n",
      "(25533, 'Assignment No 51)dfd.docx')\n",
      "(29363, 'Assignment No 41).docx')\n",
      "(29363, 'Assignment No 41)44.docx')\n",
      "(29363, 'Assignment No 41)44gdg.docx')\n",
      "(31107, 'Software Project Management Assignment.docx')\n",
      "(31851, 'Assignment No 5.docx')\n",
      "(31851, 'Assignment No 544.docx')\n",
      "(37339, 'Programs in Java.docx')\n",
      "(49793, 'Assignment No 1.docx')\n",
      "(56423, 'Assignment No 21.docx')\n",
      "(56423, 'Assignment No 21rt.docx')\n",
      "(56423, 'Assignment No 21rtref.docx')\n",
      "(61410, 'Assignment No 1 (2).docx')\n",
      "(61410, 'Assignment No 3.docx')\n",
      "(71691, 'NOTES SEM 21.docx')\n",
      "(71696, 'NOTES SEM 2.docx')\n",
      "(77646, 'Assignment No 11.docx')\n",
      "(77646, 'Assignment No 1134.docx')\n",
      "(91362, 'researchreport1.docx')\n",
      "(91393, 'researchreport12.docx')\n",
      "(91885, 'rreport.docx')\n",
      "(93641, 'Assignment No 4.docx')\n",
      "(93641, 'Assignment No 434.docx')\n",
      "(111691, 'Assignment No 121.docx')\n",
      "(111691, 'Assignment No 121dgd.docx')\n",
      "(132090, 'Assignment No 61.docx')\n",
      "(132090, 'Assignment No 61dgd.docx')\n",
      "(161373, 'Assignment No 31.docx')\n",
      "(161373, 'Assignment No 31erre.docx')\n",
      "(161373, 'Assignment No 31errefefef.docx')\n",
      "(287102, 'nnnvvvvvddddd.docx')\n",
      "(345084, 'Assignment No 2.docx')\n",
      "(345084, 'Assignment No 211.docx')\n"
     ]
    }
   ],
   "source": [
    "import os\n",
    "import shutil\n",
    "# The folder containing files.\n",
    "dir = 'C:/Users/nawin/OneDrive/Desktop/datascience/Mainfile'\n",
    "\n",
    "# Geting all files.\n",
    "list = os.listdir(dir)\n",
    "\n",
    "# Looping and adding files to list.\n",
    "pairs = []\n",
    "for file in list:\n",
    "\n",
    "    # Use join to get full file path.\n",
    "    location = os.path.join(dir, file)\n",
    "\n",
    "    # Get size and add to list of tuples.\n",
    "    size = os.path.getsize(location)\n",
    "    pairs.append((size,file))\n",
    "\n",
    "# Sort list of tuples by the first element, size.\n",
    "pairs.sort(key=lambda s: s[0])\n",
    "\n",
    "i=0\n",
    "# Display pairs.\n",
    "for pair in pairs:\n",
    "    #src = 'C:/Users/nawin/OneDrive/Desktop/datascience/Mainfile'+pair[1]\n",
    "    #dst = 'C:/Users/nawin/OneDrive/Desktop/datascience/sizesortedfolder/size'+str(i)\n",
    "    #shutil.copy2(src,dst)\n",
    "    \n",
    "    print(pair)\n",
    "    i=i+1\n",
    "\n",
    "path = 'C:/Users/nawin/OneDrive/Desktop/datascience/sizesortedfolder/'\n",
    "for j in range(0,i):\n",
    "    os.chdir(path)\n",
    "    New_folder = 'size'+str(j)\n",
    "    os.makedirs(New_folder) "
   ]
  },
  {
   "cell_type": "code",
   "execution_count": null,
   "id": "92d5b697",
   "metadata": {},
   "outputs": [],
   "source": []
  }
 ],
 "metadata": {
  "kernelspec": {
   "display_name": "Python 3 (ipykernel)",
   "language": "python",
   "name": "python3"
  },
  "language_info": {
   "codemirror_mode": {
    "name": "ipython",
    "version": 3
   },
   "file_extension": ".py",
   "mimetype": "text/x-python",
   "name": "python",
   "nbconvert_exporter": "python",
   "pygments_lexer": "ipython3",
   "version": "3.9.12"
  }
 },
 "nbformat": 4,
 "nbformat_minor": 5
}
